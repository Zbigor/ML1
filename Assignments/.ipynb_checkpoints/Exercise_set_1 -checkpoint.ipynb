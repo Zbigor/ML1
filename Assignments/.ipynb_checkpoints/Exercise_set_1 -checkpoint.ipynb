{
 "cells": [
  {
   "cell_type": "code",
   "execution_count": 1,
   "metadata": {
    "collapsed": false
   },
   "outputs": [
    {
     "data": {
      "text/html": [
       "<script>\n",
       "code_show=true; \n",
       "function code_toggle() {\n",
       " if (code_show){\n",
       " $('div.input').hide();\n",
       " } else {\n",
       " $('div.input').show();\n",
       " }\n",
       " code_show = !code_show\n",
       "} \n",
       "$( document ).ready(code_toggle);\n",
       "</script>\n",
       "<form action=\"javascript:code_toggle()\"><input type=\"submit\" value=\"Click here to toggle on/off the raw code.\"></form>"
      ],
      "text/plain": [
       "<IPython.core.display.HTML object>"
      ]
     },
     "execution_count": 1,
     "metadata": {},
     "output_type": "execute_result"
    }
   ],
   "source": [
    "from IPython.display import HTML\n",
    "\n",
    "HTML('''<script>\n",
    "code_show=true; \n",
    "function code_toggle() {\n",
    " if (code_show){\n",
    " $('div.input').hide();\n",
    " } else {\n",
    " $('div.input').show();\n",
    " }\n",
    " code_show = !code_show\n",
    "} \n",
    "$( document ).ready(code_toggle);\n",
    "</script>\n",
    "<form action=\"javascript:code_toggle()\"><input type=\"submit\" value=\"Click here to toggle on/off the raw code.\"></form>''')"
   ]
  },
  {
   "cell_type": "markdown",
   "metadata": {},
   "source": [
    "### Solutions to the exercises set 1"
   ]
  },
  {
   "cell_type": "markdown",
   "metadata": {},
   "source": [
    "#### Problem 1. Statistical independence implies zero covarience "
   ]
  },
  {
   "cell_type": "markdown",
   "metadata": {},
   "source": [
    "$X$ and $Y$ are independent so joint probability density $p(x,y) $ is equal to the product of marginal probability densities $p(x)$ and $p(y)$. \n",
    "$$p(x,y) = p(x)p(y)$$"
   ]
  },
  {
   "cell_type": "code",
   "execution_count": 20,
   "metadata": {
    "collapsed": false
   },
   "outputs": [
    {
     "data": {
      "text/latex": [
       "\\begin{equation}\n",
       "p(x,y) = p(x)p(y) \\\\\n",
       "cov(X,Y) = \\mathbb{E}[(X-\\mathbb{E}X)(Y-\\mathbb{E}Y)]=\\mathbb{E}[XY]-\\mathbb{E}[X]\\mathbb{E}[Y] \\\\\n",
       "\\mathbb{E}[XY] = \\int x\\cdot y \\cdot p(x,y)dxdy = \\int x\\cdot y \\cdot p(x)p(y)dxdy=\\int x\\cdot p(x)dx \\cdot \\int y\\cdot p(y)dy =\\mathbb{E}[X]\\mathbb{E}[Y]  \n",
       "\n",
       "\\end{equation}"
      ],
      "text/plain": [
       "<IPython.core.display.Latex object>"
      ]
     },
     "metadata": {},
     "output_type": "display_data"
    }
   ],
   "source": [
    "%%latex\n",
    "\\begin{equation}\n",
    "cov(X,Y) = \\mathbb{E}[(X-\\mathbb{E}X)(Y-\\mathbb{E}Y)]=\\mathbb{E}[XY]-\\mathbb{E}[X]\\mathbb{E}[Y] \\\\\n",
    "\\mathbb{E}[XY] = \\int x\\cdot y \\cdot p(x,y)dxdy = \\int x\\cdot y \\cdot p(x)p(y)dxdy=\\int x\\cdot p(x)dx \\cdot \\int y\\cdot p(y)dy =\\mathbb{E}[X]\\mathbb{E}[Y]  \n",
    "\\end{equation}"
   ]
  },
  {
   "cell_type": "markdown",
   "metadata": {},
   "source": [
    "For discrete variables the proof is similar, we just need to use sums, not integrals  "
   ]
  },
  {
   "cell_type": "markdown",
   "metadata": {},
   "source": [
    "#### Problem 2. Probability calculus with apples and oranges "
   ]
  },
  {
   "cell_type": "markdown",
   "metadata": {},
   "source": [
    "1) We can use product rule. $$P(F=Apple)= P(F=Apple|Box= 1) \\cdot (Box = 1)+P(F=Apple|Box = 0) \\cdot (Box = 0)= \\frac{8}{12}\\cdot\\frac{1}{2}+\\frac{15}{18}\\cdot\\frac{1}{2}=0.75$$\n",
    "2) $$P(B = 1|F=A) = \\frac{ P(F= A|B = 1) \\cdot (B= 1)}{P(F=A)}= \\frac{4}{9}$$\n",
    "3) We don't know what the box is but we do know the probability of the box to be the first box or the second (we've just calculated them in 2). So we can once more use the product rule to find the probability that the second fruit is an apple. $$P(F2=A|F=A)= P(F2=A|B= 1) \\cdot (B= 1|F=A)+  P(F2=A|B = 0)  \\cdot (B = 0|F=A) = \\frac{8}{12}\\cdot\\frac{4}{9}+\\frac{15}{18}\\cdot(1-\\frac{4}{9})= 0.759$$"
   ]
  },
  {
   "cell_type": "code",
   "execution_count": 4,
   "metadata": {
    "collapsed": false
   },
   "outputs": [
    {
     "data": {
      "text/plain": [
       "0.7592592592592593"
      ]
     },
     "execution_count": 4,
     "metadata": {},
     "output_type": "execute_result"
    }
   ],
   "source": [
    "41/54"
   ]
  },
  {
   "cell_type": "code",
   "execution_count": 22,
   "metadata": {
    "collapsed": false
   },
   "outputs": [
    {
     "data": {
      "text/plain": [
       "0.75"
      ]
     },
     "execution_count": 22,
     "metadata": {},
     "output_type": "execute_result"
    }
   ],
   "source": [
    "(8/12+15/18)*(1/2)"
   ]
  },
  {
   "cell_type": "code",
   "execution_count": 5,
   "metadata": {
    "collapsed": false
   },
   "outputs": [
    {
     "data": {
      "text/plain": [
       "0.4444444444444444"
      ]
     },
     "execution_count": 5,
     "metadata": {},
     "output_type": "execute_result"
    }
   ],
   "source": [
    "(8/12)*(1/2)/(0.75)"
   ]
  },
  {
   "cell_type": "code",
   "execution_count": 27,
   "metadata": {
    "collapsed": false
   },
   "outputs": [
    {
     "data": {
      "text/plain": [
       "0.7592592592592593"
      ]
     },
     "execution_count": 27,
     "metadata": {},
     "output_type": "execute_result"
    }
   ],
   "source": [
    "(8/12)*(4/9)+(15/18)*(5/9)"
   ]
  },
  {
   "cell_type": "markdown",
   "metadata": {},
   "source": [
    "#### Problem 3. Maximum likelihood "
   ]
  },
  {
   "cell_type": "code",
   "execution_count": 1,
   "metadata": {
    "collapsed": false,
    "scrolled": false
   },
   "outputs": [
    {
     "data": {
      "text/latex": [
       "1) We use a property that of the logarithm of product is equal to the sum of the logarithms\n",
       "\\begin{equation}\n",
       "\\log (p(\\chi|\\mu,\\sigma^2)) = \\log(\\prod_{i=1}^{N} \\mathcal{N}(x_n|\\mu,\\sigma^2)) = \\sum_{i=1}^{N} \\log (\\mathcal{N}(x_n|\\mu,\\sigma^2)))\\\\\n",
       "\\sum_{i=1}^{N} \\log \\mathcal{N}(x_n|\\mu,\\sigma^2) = \\sum_{i=1}^{N} \\log \\frac{1}{\\sqrt{2\\pi\\sigma^2}}e^{-\\frac{(x_n - \\mu)^2}{2\\sigma^2}} =\\\\\n",
       "= \\sum_{i=1}^{N} -\\frac{(x_n - \\mu)^2}{2\\sigma^2} + \\sum_{i=1}^{N} - \\frac{1}{2}\\log 2\\pi\\sigma^2 = \\\\ \n",
       "= -\\frac{1}{2\\sigma^2} \\sum_{i=1}^{N}(x_n - \\mu)^2 - \\frac{N}{2} \\log(\\sigma^2 ) - \\frac{N}{2} \\log(2\\pi)\n",
       "\\end{equation}\n",
       "2)\n",
       "\\begin{equation}\n",
       "\\frac{d \\log (p(\\chi|\\mu,\\sigma^2))}{d \\mu} = 0 \\\\\n",
       "\\frac{d \\log (p(\\chi|\\mu,\\sigma^2))}{d \\mu} = \\frac{2}{2\\sigma^2} \\sum_{i=1}^{N}(x_n - \\mu) =0 \\\\\n",
       "\\sum_{i=1}^{N} \\mu = \\sum_{i=1}^{N} x_n \\\\\n",
       "\\mu_{ML} = \\frac{1}{N}  \\sum_{i=1}^{N} x_n\n",
       "\\end{equation}\n",
       "3) \n",
       "\\begin{equation}\n",
       "\\frac{d \\log (p(\\chi|\\mu,\\sigma^2))}{d \\sigma^2} = 0 \\\\\n",
       "\\frac{d \\log (p(\\chi|\\mu,\\sigma^2))}{d \\sigma^2} = \\frac{1}{\\sigma^3}\\sum_{i=1}^{N}(x_n - \\mu)^2 -\\frac{N}{2}\\frac{1}{\\sigma^2}2\\sigma =0 \\\\\n",
       "\\sigma_{ML}^2 = \\frac{1}{N}\\sum_{i=1}^{N}(x_n - \\mu_{ML})^2\n",
       "\\end{equation}"
      ],
      "text/plain": [
       "<IPython.core.display.Latex object>"
      ]
     },
     "metadata": {},
     "output_type": "display_data"
    }
   ],
   "source": [
    "%%latex \n",
    "1) We use a property that of the logarithm of product is equal to the sum of the logarithms\n",
    "\\begin{equation}\n",
    "\\log (p(\\chi|\\mu,\\sigma^2)) = \\log(\\prod_{i=1}^{N} \\mathcal{N}(x_n|\\mu,\\sigma^2)) = \\sum_{i=1}^{N} \\log (\\mathcal{N}(x_n|\\mu,\\sigma^2)))\\\\\n",
    "\\sum_{i=1}^{N} \\log \\mathcal{N}(x_n|\\mu,\\sigma^2) = \\sum_{i=1}^{N} \\log \\frac{1}{\\sqrt{2\\pi\\sigma^2}}e^{-\\frac{(x_n - \\mu)^2}{2\\sigma^2}} =\\\\\n",
    "= \\sum_{i=1}^{N} -\\frac{(x_n - \\mu)^2}{2\\sigma^2} + \\sum_{i=1}^{N} - \\frac{1}{2}\\log 2\\pi\\sigma^2 = \\\\ \n",
    "= -\\frac{1}{2\\sigma^2} \\sum_{i=1}^{N}(x_n - \\mu)^2 - \\frac{N}{2} \\log(\\sigma^2 ) - \\frac{N}{2} \\log(2\\pi)\n",
    "\\end{equation}\n",
    "2)\n",
    "\\begin{equation}\n",
    "\\frac{d \\log (p(\\chi|\\mu,\\sigma^2))}{d \\mu} = 0 \\\\\n",
    "\\frac{d \\log (p(\\chi|\\mu,\\sigma^2))}{d \\mu} = \\frac{2}{2\\sigma^2} \\sum_{i=1}^{N}(x_n - \\mu) =0 \\\\\n",
    "\\sum_{i=1}^{N} \\mu = \\sum_{i=1}^{N} x_n \\\\\n",
    "\\mu_{ML} = \\frac{1}{N}  \\sum_{i=1}^{N} x_n\n",
    "\\end{equation}\n",
    "3) \n",
    "\\begin{equation}\n",
    "\\frac{d \\log (p(\\chi|\\mu,\\sigma^2))}{d \\sigma^2} = 0 \\\\\n",
    "\\frac{d \\log (p(\\chi|\\mu,\\sigma^2))}{d \\sigma^2} = \\frac{1}{\\sigma^3}\\sum_{i=1}^{N}(x_n - \\mu)^2 -\\frac{N}{2}\\frac{1}{\\sigma^2}2\\sigma =0 \\\\\n",
    "\\sigma_{ML}^2 = \\frac{1}{N}\\sum_{i=1}^{N}(x_n - \\mu_{ML})^2\n",
    "\\end{equation}"
   ]
  },
  {
   "cell_type": "markdown",
   "metadata": {},
   "source": [
    "#### Problem 4 "
   ]
  },
  {
   "cell_type": "markdown",
   "metadata": {},
   "source": [
    "1) **Intuitive solution:**\n",
    "\n",
    "Before we made the question the sample space was:\n",
    "$$\\Omega = \\{BB, GG, BG, GB\\}.$$\n",
    "\n",
    "Where, $B$ represent a boy and $G$ represent a girl. For instance, $BG$ represent\n",
    "the event where the first child is a boy and the second child is a girl.\n",
    "When the neighbor answer our question affirmatively, he is saying that he\n",
    "has at least one boy. So, the new sample space is composed by:\n",
    "\n",
    "$$\\Omega = \\{BB, BG, GB\\}.$$\n",
    "\n",
    "Thus, eliminating the event where there were two girls. Therefore, the prob-\n",
    "ability of having a girl is:\n",
    "$$\\frac{| \\{BG, GB\\}|}{|\\Omega|}=\\frac{2}{3}$$\n",
    "\n",
    "**Formal solution:**\n",
    "\n",
    "Random variables \n",
    " -  $B$ - number of boys \n",
    " - $G$ - number of girls \n",
    "\n",
    "The neighbor tell us that $B \\ge 1$\n",
    "\n",
    "$$P(G = 1|B \\ge 1) = \\frac{P(G = 1, B \\ge 1)}{P(B \\ge 1)} = \\frac{\\frac{2}{4}}{\\frac{3}{4}}=\\frac{2}{3}$$\n",
    "\n",
    "2) **Intuitive solution:**\n",
    "\n",
    "Knowing the sex of one kid has no influence whatsoever on the sex of the\n",
    "other kid. So, there is a 50 % chance of the other child being a girl. \n",
    "\n",
    "**Formal solution:**\n",
    "\n",
    "Events\n",
    "- $S$ - sex of the known child\n",
    "- $T$ - sex of the unknown child\n",
    "$$P(T = G|S = B) = \\frac{P(T = G, S = B)}{\n",
    "P(S = B)}\n",
    "= P(T = G) = \\frac{1}{\n",
    "2}$$\n",
    "\n",
    "The question is similar to the well-known [Boy or Girl \"paradox\"](https://en.wikipedia.org/wiki/Boy_or_Girl_paradox). Read part \"Analysis of the ambiguity\" to understand the difference between first that second situation. Note that there the question in paradox was oppsite to the question in exercise e.g. \"What is the probability that both children are boys?\"\n",
    "> Thus, if it is assumed that **both children were considered while looking for a boy**, the answer is \n",
    "**$\\frac{1}{3}$**. However, if the family was first selected and then **a random, true statement was made about the gender of one child** in that family, whether or not both were considered, the correct way to calculate the conditional probability is not to count all of the cases that include a child with that gender. Instead, one must consider only the probabilities where the statement will be made in each case. In this case the answer is **$\\frac{1}{2}$**.\n",
    "\n",
    "**Conclusion**\n",
    "\n",
    "As suspected, the two questions had different answers despite being similar. The lesson here is to not confuse semantically close statements in the english\n",
    "language with close answers in the probabilistic framework. Be sure to always\n",
    "translate the information and the question into the probabilistic framework\n",
    "before jumping into any conclusion."
   ]
  },
  {
   "cell_type": "markdown",
   "metadata": {},
   "source": [
    "#### Problem 5"
   ]
  },
  {
   "cell_type": "code",
   "execution_count": 1,
   "metadata": {
    "collapsed": false
   },
   "outputs": [
    {
     "data": {
      "text/latex": [
       "\n",
       "\\begin{equation}\n",
       "p(x|\\mu,\\sigma^2)= \\frac{1}{\\sqrt{2\\pi\\sigma^2}}e^{-\\frac{(x - \\mu)^2}{2\\sigma^2}}\n",
       "\\end{equation}\n",
       "\n",
       "\\begin{equation}\n",
       "H[x] = - \\mathbb{E} [\\log p(x|\\mu,\\sigma^2)] = -(-\\frac{1}{2} \\log 2\\pi\\sigma^2 + \\mathbb{E}[-\\frac{(x - \\mu)^2}{2\\sigma^2}]) \\\\\n",
       "= \\frac{1}{2} \\log 2\\pi\\sigma^2 + \\frac{1}{2\\sigma^2}\\mathbb{E}[(x - \\mu)^2] = \\frac{1}{2}(\\log 2\\pi\\sigma^2+1)\n",
       "\\end{equation}"
      ],
      "text/plain": [
       "<IPython.core.display.Latex object>"
      ]
     },
     "metadata": {},
     "output_type": "display_data"
    }
   ],
   "source": [
    "%%latex \n",
    "\n",
    "\\begin{equation}\n",
    "p(x|\\mu,\\sigma^2)= \\frac{1}{\\sqrt{2\\pi\\sigma^2}}e^{-\\frac{(x - \\mu)^2}{2\\sigma^2}}\n",
    "\\end{equation}\n",
    "\n",
    "\\begin{equation}\n",
    "H[x] = - \\mathbb{E} [\\log p(x|\\mu,\\sigma^2)] = -(-\\frac{1}{2} \\log 2\\pi\\sigma^2 + \\mathbb{E}[-\\frac{(x - \\mu)^2}{2\\sigma^2}]) \\\\\n",
    "= \\frac{1}{2} \\log 2\\pi\\sigma^2 + \\frac{1}{2\\sigma^2}\\mathbb{E}[(x - \\mu)^2] = \\frac{1}{2}(\\log 2\\pi\\sigma^2+1)\n",
    "\\end{equation}\n"
   ]
  },
  {
   "cell_type": "code",
   "execution_count": null,
   "metadata": {
    "collapsed": true
   },
   "outputs": [],
   "source": []
  }
 ],
 "metadata": {
  "kernelspec": {
   "display_name": "Python 3",
   "language": "python",
   "name": "python3"
  },
  "language_info": {
   "codemirror_mode": {
    "name": "ipython",
    "version": 3
   },
   "file_extension": ".py",
   "mimetype": "text/x-python",
   "name": "python",
   "nbconvert_exporter": "python",
   "pygments_lexer": "ipython3",
   "version": "3.6.0"
  }
 },
 "nbformat": 4,
 "nbformat_minor": 2
}
